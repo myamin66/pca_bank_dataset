{
  "nbformat": 4,
  "nbformat_minor": 0,
  "metadata": {
    "colab": {
      "name": "previous 6.ipynb",
      "provenance": [],
      "collapsed_sections": []
    },
    "kernelspec": {
      "name": "python3",
      "display_name": "Python 3"
    },
    "language_info": {
      "name": "python"
    },
    "accelerator": "GPU",
    "gpuClass": "standard"
  },
  "cells": [
    {
      "cell_type": "markdown",
      "source": [
        "# Tasks to perform\n",
        "\n",
        "\n",
        "1.   Prepare the dataset to be fed to Fully Connected Neural Network. With preparation, I mean convert all the categorial and string values to number representation acceptable for the neural network\n",
        "2.   Define a fully connected deep neural network with three hidden layers of 128, 64 and 32 with appropriate input and output layers. Remember column with title 'y' is output variable\n",
        "3.   Split the data in 70-30 for train and test\n",
        "4.   Train the model on all 20 input variables and report the test accuracy\n",
        "5.   Use PCA to extract first five principle components on this dataset and report test accuracy on these principle components \n",
        "6.   How much variance is covered by these five components? Please discuss it inside a text cell\n",
        "7.   Repeat experiment 5 and 6, this time rather selecting five components, select as many as components are required to achieve minimum 70% test accuracy\n",
        "8.    How many components are required to achieve 70% performance?   "
      ],
      "metadata": {
        "id": "uVGpE8h5K0Mr"
      }
    },
    {
      "cell_type": "markdown",
      "source": [
        "# Necessary Imports"
      ],
      "metadata": {
        "id": "i8zxTgu1KOz8"
      }
    },
    {
      "cell_type": "code",
      "execution_count": 1,
      "metadata": {
        "id": "r2nz1Ws4Dmzb"
      },
      "outputs": [],
      "source": [
        "# Data manipulation\n",
        "import pandas as pd # for data manipulation\n",
        "\n",
        "# Visualization\n",
        "import plotly.express as px # for data visualization\n",
        "\n",
        "# Skleran\n",
        "from sklearn.preprocessing import StandardScaler # for data standardization\n",
        "from sklearn.metrics import classification_report # for model evaluation metrics\n",
        "from sklearn.preprocessing import OrdinalEncoder # to encode categorical variables\n",
        "from sklearn.preprocessing import LabelEncoder # to encode categorical variables"
      ]
    },
    {
      "cell_type": "markdown",
      "source": [
        "# Mounting Google Drive"
      ],
      "metadata": {
        "id": "GJIulWCVKX5U"
      }
    },
    {
      "cell_type": "code",
      "source": [
        "from google.colab import drive\n",
        "drive.mount('/content/drive')"
      ],
      "metadata": {
        "colab": {
          "base_uri": "https://localhost:8080/"
        },
        "id": "QooED7M9FomQ",
        "outputId": "b7c4bf41-3a1a-457f-b8b0-3812dd830733"
      },
      "execution_count": 2,
      "outputs": [
        {
          "output_type": "stream",
          "name": "stdout",
          "text": [
            "Mounted at /content/drive\n"
          ]
        }
      ]
    },
    {
      "cell_type": "markdown",
      "source": [
        "# Dataset Path on Drive"
      ],
      "metadata": {
        "id": "1yS5xFclKdEd"
      }
    },
    {
      "cell_type": "code",
      "source": [
        "dataset_path = '/content/drive/MyDrive/Colab Notebooks/datasets/banking/banking.csv'"
      ],
      "metadata": {
        "id": "xHejy3OLFC9R"
      },
      "execution_count": 28,
      "outputs": []
    },
    {
      "cell_type": "markdown",
      "source": [
        "# Reading Dataset CSV"
      ],
      "metadata": {
        "id": "ldti59JQL29X"
      }
    },
    {
      "cell_type": "code",
      "source": [
        "# Read in data\n",
        "df = pd.read_csv(dataset_path, encoding='utf-8')\n",
        "# Print dataframe\n",
        "df"
      ],
      "metadata": {
        "colab": {
          "base_uri": "https://localhost:8080/",
          "height": 488
        },
        "id": "oEg-NOYoFDAZ",
        "outputId": "002fff70-e759-4891-a113-ef42e53fa0cc"
      },
      "execution_count": 29,
      "outputs": [
        {
          "output_type": "execute_result",
          "data": {
            "text/plain": [
              "       age          job  marital            education  default housing loan  \\\n",
              "0       44  blue-collar  married             basic.4y  unknown     yes   no   \n",
              "1       53   technician  married              unknown       no      no   no   \n",
              "2       28   management   single    university.degree       no     yes   no   \n",
              "3       39     services  married          high.school       no      no   no   \n",
              "4       55      retired  married             basic.4y       no     yes   no   \n",
              "...    ...          ...      ...                  ...      ...     ...  ...   \n",
              "41183   59      retired  married          high.school  unknown      no  yes   \n",
              "41184   31    housemaid  married             basic.4y  unknown      no   no   \n",
              "41185   42       admin.   single    university.degree  unknown     yes  yes   \n",
              "41186   48   technician  married  professional.course       no      no  yes   \n",
              "41187   25      student   single          high.school       no      no   no   \n",
              "\n",
              "         contact month day_of_week  ...  campaign  pdays  previous  \\\n",
              "0       cellular   aug         thu  ...         1    999         0   \n",
              "1       cellular   nov         fri  ...         1    999         0   \n",
              "2       cellular   jun         thu  ...         3      6         2   \n",
              "3       cellular   apr         fri  ...         2    999         0   \n",
              "4       cellular   aug         fri  ...         1      3         1   \n",
              "...          ...   ...         ...  ...       ...    ...       ...   \n",
              "41183  telephone   jun         thu  ...         1    999         0   \n",
              "41184  telephone   may         thu  ...         2    999         0   \n",
              "41185  telephone   may         wed  ...         3    999         0   \n",
              "41186  telephone   oct         tue  ...         2    999         0   \n",
              "41187  telephone   may         fri  ...         4    999         0   \n",
              "\n",
              "          poutcome emp_var_rate  cons_price_idx  cons_conf_idx  euribor3m  \\\n",
              "0      nonexistent          1.4          93.444          -36.1      4.963   \n",
              "1      nonexistent         -0.1          93.200          -42.0      4.021   \n",
              "2          success         -1.7          94.055          -39.8      0.729   \n",
              "3      nonexistent         -1.8          93.075          -47.1      1.405   \n",
              "4          success         -2.9          92.201          -31.4      0.869   \n",
              "...            ...          ...             ...            ...        ...   \n",
              "41183  nonexistent          1.4          94.465          -41.8      4.866   \n",
              "41184  nonexistent          1.1          93.994          -36.4      4.860   \n",
              "41185  nonexistent          1.1          93.994          -36.4      4.857   \n",
              "41186  nonexistent         -3.4          92.431          -26.9      0.742   \n",
              "41187  nonexistent          1.1          93.994          -36.4      4.859   \n",
              "\n",
              "       nr_employed  y  \n",
              "0           5228.1  0  \n",
              "1           5195.8  0  \n",
              "2           4991.6  1  \n",
              "3           5099.1  0  \n",
              "4           5076.2  1  \n",
              "...            ... ..  \n",
              "41183       5228.1  0  \n",
              "41184       5191.0  0  \n",
              "41185       5191.0  0  \n",
              "41186       5017.5  0  \n",
              "41187       5191.0  0  \n",
              "\n",
              "[41188 rows x 21 columns]"
            ],
            "text/html": [
              "\n",
              "  <div id=\"df-4a3d2fa6-2ed8-4e15-a16d-55e4349df89f\">\n",
              "    <div class=\"colab-df-container\">\n",
              "      <div>\n",
              "<style scoped>\n",
              "    .dataframe tbody tr th:only-of-type {\n",
              "        vertical-align: middle;\n",
              "    }\n",
              "\n",
              "    .dataframe tbody tr th {\n",
              "        vertical-align: top;\n",
              "    }\n",
              "\n",
              "    .dataframe thead th {\n",
              "        text-align: right;\n",
              "    }\n",
              "</style>\n",
              "<table border=\"1\" class=\"dataframe\">\n",
              "  <thead>\n",
              "    <tr style=\"text-align: right;\">\n",
              "      <th></th>\n",
              "      <th>age</th>\n",
              "      <th>job</th>\n",
              "      <th>marital</th>\n",
              "      <th>education</th>\n",
              "      <th>default</th>\n",
              "      <th>housing</th>\n",
              "      <th>loan</th>\n",
              "      <th>contact</th>\n",
              "      <th>month</th>\n",
              "      <th>day_of_week</th>\n",
              "      <th>...</th>\n",
              "      <th>campaign</th>\n",
              "      <th>pdays</th>\n",
              "      <th>previous</th>\n",
              "      <th>poutcome</th>\n",
              "      <th>emp_var_rate</th>\n",
              "      <th>cons_price_idx</th>\n",
              "      <th>cons_conf_idx</th>\n",
              "      <th>euribor3m</th>\n",
              "      <th>nr_employed</th>\n",
              "      <th>y</th>\n",
              "    </tr>\n",
              "  </thead>\n",
              "  <tbody>\n",
              "    <tr>\n",
              "      <th>0</th>\n",
              "      <td>44</td>\n",
              "      <td>blue-collar</td>\n",
              "      <td>married</td>\n",
              "      <td>basic.4y</td>\n",
              "      <td>unknown</td>\n",
              "      <td>yes</td>\n",
              "      <td>no</td>\n",
              "      <td>cellular</td>\n",
              "      <td>aug</td>\n",
              "      <td>thu</td>\n",
              "      <td>...</td>\n",
              "      <td>1</td>\n",
              "      <td>999</td>\n",
              "      <td>0</td>\n",
              "      <td>nonexistent</td>\n",
              "      <td>1.4</td>\n",
              "      <td>93.444</td>\n",
              "      <td>-36.1</td>\n",
              "      <td>4.963</td>\n",
              "      <td>5228.1</td>\n",
              "      <td>0</td>\n",
              "    </tr>\n",
              "    <tr>\n",
              "      <th>1</th>\n",
              "      <td>53</td>\n",
              "      <td>technician</td>\n",
              "      <td>married</td>\n",
              "      <td>unknown</td>\n",
              "      <td>no</td>\n",
              "      <td>no</td>\n",
              "      <td>no</td>\n",
              "      <td>cellular</td>\n",
              "      <td>nov</td>\n",
              "      <td>fri</td>\n",
              "      <td>...</td>\n",
              "      <td>1</td>\n",
              "      <td>999</td>\n",
              "      <td>0</td>\n",
              "      <td>nonexistent</td>\n",
              "      <td>-0.1</td>\n",
              "      <td>93.200</td>\n",
              "      <td>-42.0</td>\n",
              "      <td>4.021</td>\n",
              "      <td>5195.8</td>\n",
              "      <td>0</td>\n",
              "    </tr>\n",
              "    <tr>\n",
              "      <th>2</th>\n",
              "      <td>28</td>\n",
              "      <td>management</td>\n",
              "      <td>single</td>\n",
              "      <td>university.degree</td>\n",
              "      <td>no</td>\n",
              "      <td>yes</td>\n",
              "      <td>no</td>\n",
              "      <td>cellular</td>\n",
              "      <td>jun</td>\n",
              "      <td>thu</td>\n",
              "      <td>...</td>\n",
              "      <td>3</td>\n",
              "      <td>6</td>\n",
              "      <td>2</td>\n",
              "      <td>success</td>\n",
              "      <td>-1.7</td>\n",
              "      <td>94.055</td>\n",
              "      <td>-39.8</td>\n",
              "      <td>0.729</td>\n",
              "      <td>4991.6</td>\n",
              "      <td>1</td>\n",
              "    </tr>\n",
              "    <tr>\n",
              "      <th>3</th>\n",
              "      <td>39</td>\n",
              "      <td>services</td>\n",
              "      <td>married</td>\n",
              "      <td>high.school</td>\n",
              "      <td>no</td>\n",
              "      <td>no</td>\n",
              "      <td>no</td>\n",
              "      <td>cellular</td>\n",
              "      <td>apr</td>\n",
              "      <td>fri</td>\n",
              "      <td>...</td>\n",
              "      <td>2</td>\n",
              "      <td>999</td>\n",
              "      <td>0</td>\n",
              "      <td>nonexistent</td>\n",
              "      <td>-1.8</td>\n",
              "      <td>93.075</td>\n",
              "      <td>-47.1</td>\n",
              "      <td>1.405</td>\n",
              "      <td>5099.1</td>\n",
              "      <td>0</td>\n",
              "    </tr>\n",
              "    <tr>\n",
              "      <th>4</th>\n",
              "      <td>55</td>\n",
              "      <td>retired</td>\n",
              "      <td>married</td>\n",
              "      <td>basic.4y</td>\n",
              "      <td>no</td>\n",
              "      <td>yes</td>\n",
              "      <td>no</td>\n",
              "      <td>cellular</td>\n",
              "      <td>aug</td>\n",
              "      <td>fri</td>\n",
              "      <td>...</td>\n",
              "      <td>1</td>\n",
              "      <td>3</td>\n",
              "      <td>1</td>\n",
              "      <td>success</td>\n",
              "      <td>-2.9</td>\n",
              "      <td>92.201</td>\n",
              "      <td>-31.4</td>\n",
              "      <td>0.869</td>\n",
              "      <td>5076.2</td>\n",
              "      <td>1</td>\n",
              "    </tr>\n",
              "    <tr>\n",
              "      <th>...</th>\n",
              "      <td>...</td>\n",
              "      <td>...</td>\n",
              "      <td>...</td>\n",
              "      <td>...</td>\n",
              "      <td>...</td>\n",
              "      <td>...</td>\n",
              "      <td>...</td>\n",
              "      <td>...</td>\n",
              "      <td>...</td>\n",
              "      <td>...</td>\n",
              "      <td>...</td>\n",
              "      <td>...</td>\n",
              "      <td>...</td>\n",
              "      <td>...</td>\n",
              "      <td>...</td>\n",
              "      <td>...</td>\n",
              "      <td>...</td>\n",
              "      <td>...</td>\n",
              "      <td>...</td>\n",
              "      <td>...</td>\n",
              "      <td>...</td>\n",
              "    </tr>\n",
              "    <tr>\n",
              "      <th>41183</th>\n",
              "      <td>59</td>\n",
              "      <td>retired</td>\n",
              "      <td>married</td>\n",
              "      <td>high.school</td>\n",
              "      <td>unknown</td>\n",
              "      <td>no</td>\n",
              "      <td>yes</td>\n",
              "      <td>telephone</td>\n",
              "      <td>jun</td>\n",
              "      <td>thu</td>\n",
              "      <td>...</td>\n",
              "      <td>1</td>\n",
              "      <td>999</td>\n",
              "      <td>0</td>\n",
              "      <td>nonexistent</td>\n",
              "      <td>1.4</td>\n",
              "      <td>94.465</td>\n",
              "      <td>-41.8</td>\n",
              "      <td>4.866</td>\n",
              "      <td>5228.1</td>\n",
              "      <td>0</td>\n",
              "    </tr>\n",
              "    <tr>\n",
              "      <th>41184</th>\n",
              "      <td>31</td>\n",
              "      <td>housemaid</td>\n",
              "      <td>married</td>\n",
              "      <td>basic.4y</td>\n",
              "      <td>unknown</td>\n",
              "      <td>no</td>\n",
              "      <td>no</td>\n",
              "      <td>telephone</td>\n",
              "      <td>may</td>\n",
              "      <td>thu</td>\n",
              "      <td>...</td>\n",
              "      <td>2</td>\n",
              "      <td>999</td>\n",
              "      <td>0</td>\n",
              "      <td>nonexistent</td>\n",
              "      <td>1.1</td>\n",
              "      <td>93.994</td>\n",
              "      <td>-36.4</td>\n",
              "      <td>4.860</td>\n",
              "      <td>5191.0</td>\n",
              "      <td>0</td>\n",
              "    </tr>\n",
              "    <tr>\n",
              "      <th>41185</th>\n",
              "      <td>42</td>\n",
              "      <td>admin.</td>\n",
              "      <td>single</td>\n",
              "      <td>university.degree</td>\n",
              "      <td>unknown</td>\n",
              "      <td>yes</td>\n",
              "      <td>yes</td>\n",
              "      <td>telephone</td>\n",
              "      <td>may</td>\n",
              "      <td>wed</td>\n",
              "      <td>...</td>\n",
              "      <td>3</td>\n",
              "      <td>999</td>\n",
              "      <td>0</td>\n",
              "      <td>nonexistent</td>\n",
              "      <td>1.1</td>\n",
              "      <td>93.994</td>\n",
              "      <td>-36.4</td>\n",
              "      <td>4.857</td>\n",
              "      <td>5191.0</td>\n",
              "      <td>0</td>\n",
              "    </tr>\n",
              "    <tr>\n",
              "      <th>41186</th>\n",
              "      <td>48</td>\n",
              "      <td>technician</td>\n",
              "      <td>married</td>\n",
              "      <td>professional.course</td>\n",
              "      <td>no</td>\n",
              "      <td>no</td>\n",
              "      <td>yes</td>\n",
              "      <td>telephone</td>\n",
              "      <td>oct</td>\n",
              "      <td>tue</td>\n",
              "      <td>...</td>\n",
              "      <td>2</td>\n",
              "      <td>999</td>\n",
              "      <td>0</td>\n",
              "      <td>nonexistent</td>\n",
              "      <td>-3.4</td>\n",
              "      <td>92.431</td>\n",
              "      <td>-26.9</td>\n",
              "      <td>0.742</td>\n",
              "      <td>5017.5</td>\n",
              "      <td>0</td>\n",
              "    </tr>\n",
              "    <tr>\n",
              "      <th>41187</th>\n",
              "      <td>25</td>\n",
              "      <td>student</td>\n",
              "      <td>single</td>\n",
              "      <td>high.school</td>\n",
              "      <td>no</td>\n",
              "      <td>no</td>\n",
              "      <td>no</td>\n",
              "      <td>telephone</td>\n",
              "      <td>may</td>\n",
              "      <td>fri</td>\n",
              "      <td>...</td>\n",
              "      <td>4</td>\n",
              "      <td>999</td>\n",
              "      <td>0</td>\n",
              "      <td>nonexistent</td>\n",
              "      <td>1.1</td>\n",
              "      <td>93.994</td>\n",
              "      <td>-36.4</td>\n",
              "      <td>4.859</td>\n",
              "      <td>5191.0</td>\n",
              "      <td>0</td>\n",
              "    </tr>\n",
              "  </tbody>\n",
              "</table>\n",
              "<p>41188 rows × 21 columns</p>\n",
              "</div>\n",
              "      <button class=\"colab-df-convert\" onclick=\"convertToInteractive('df-4a3d2fa6-2ed8-4e15-a16d-55e4349df89f')\"\n",
              "              title=\"Convert this dataframe to an interactive table.\"\n",
              "              style=\"display:none;\">\n",
              "        \n",
              "  <svg xmlns=\"http://www.w3.org/2000/svg\" height=\"24px\"viewBox=\"0 0 24 24\"\n",
              "       width=\"24px\">\n",
              "    <path d=\"M0 0h24v24H0V0z\" fill=\"none\"/>\n",
              "    <path d=\"M18.56 5.44l.94 2.06.94-2.06 2.06-.94-2.06-.94-.94-2.06-.94 2.06-2.06.94zm-11 1L8.5 8.5l.94-2.06 2.06-.94-2.06-.94L8.5 2.5l-.94 2.06-2.06.94zm10 10l.94 2.06.94-2.06 2.06-.94-2.06-.94-.94-2.06-.94 2.06-2.06.94z\"/><path d=\"M17.41 7.96l-1.37-1.37c-.4-.4-.92-.59-1.43-.59-.52 0-1.04.2-1.43.59L10.3 9.45l-7.72 7.72c-.78.78-.78 2.05 0 2.83L4 21.41c.39.39.9.59 1.41.59.51 0 1.02-.2 1.41-.59l7.78-7.78 2.81-2.81c.8-.78.8-2.07 0-2.86zM5.41 20L4 18.59l7.72-7.72 1.47 1.35L5.41 20z\"/>\n",
              "  </svg>\n",
              "      </button>\n",
              "      \n",
              "  <style>\n",
              "    .colab-df-container {\n",
              "      display:flex;\n",
              "      flex-wrap:wrap;\n",
              "      gap: 12px;\n",
              "    }\n",
              "\n",
              "    .colab-df-convert {\n",
              "      background-color: #E8F0FE;\n",
              "      border: none;\n",
              "      border-radius: 50%;\n",
              "      cursor: pointer;\n",
              "      display: none;\n",
              "      fill: #1967D2;\n",
              "      height: 32px;\n",
              "      padding: 0 0 0 0;\n",
              "      width: 32px;\n",
              "    }\n",
              "\n",
              "    .colab-df-convert:hover {\n",
              "      background-color: #E2EBFA;\n",
              "      box-shadow: 0px 1px 2px rgba(60, 64, 67, 0.3), 0px 1px 3px 1px rgba(60, 64, 67, 0.15);\n",
              "      fill: #174EA6;\n",
              "    }\n",
              "\n",
              "    [theme=dark] .colab-df-convert {\n",
              "      background-color: #3B4455;\n",
              "      fill: #D2E3FC;\n",
              "    }\n",
              "\n",
              "    [theme=dark] .colab-df-convert:hover {\n",
              "      background-color: #434B5C;\n",
              "      box-shadow: 0px 1px 3px 1px rgba(0, 0, 0, 0.15);\n",
              "      filter: drop-shadow(0px 1px 2px rgba(0, 0, 0, 0.3));\n",
              "      fill: #FFFFFF;\n",
              "    }\n",
              "  </style>\n",
              "\n",
              "      <script>\n",
              "        const buttonEl =\n",
              "          document.querySelector('#df-4a3d2fa6-2ed8-4e15-a16d-55e4349df89f button.colab-df-convert');\n",
              "        buttonEl.style.display =\n",
              "          google.colab.kernel.accessAllowed ? 'block' : 'none';\n",
              "\n",
              "        async function convertToInteractive(key) {\n",
              "          const element = document.querySelector('#df-4a3d2fa6-2ed8-4e15-a16d-55e4349df89f');\n",
              "          const dataTable =\n",
              "            await google.colab.kernel.invokeFunction('convertToInteractive',\n",
              "                                                     [key], {});\n",
              "          if (!dataTable) return;\n",
              "\n",
              "          const docLinkHtml = 'Like what you see? Visit the ' +\n",
              "            '<a target=\"_blank\" href=https://colab.research.google.com/notebooks/data_table.ipynb>data table notebook</a>'\n",
              "            + ' to learn more about interactive tables.';\n",
              "          element.innerHTML = '';\n",
              "          dataTable['output_type'] = 'display_data';\n",
              "          await google.colab.output.renderOutput(dataTable, element);\n",
              "          const docLink = document.createElement('div');\n",
              "          docLink.innerHTML = docLinkHtml;\n",
              "          element.appendChild(docLink);\n",
              "        }\n",
              "      </script>\n",
              "    </div>\n",
              "  </div>\n",
              "  "
            ]
          },
          "metadata": {},
          "execution_count": 29
        }
      ]
    },
    {
      "cell_type": "code",
      "source": [
        "len(list(df.columns))"
      ],
      "metadata": {
        "colab": {
          "base_uri": "https://localhost:8080/"
        },
        "id": "2PPErYI3FDDR",
        "outputId": "766bcb52-6364-4beb-f8cb-7ea57c03551a"
      },
      "execution_count": 30,
      "outputs": [
        {
          "output_type": "execute_result",
          "data": {
            "text/plain": [
              "21"
            ]
          },
          "metadata": {},
          "execution_count": 30
        }
      ]
    },
    {
      "cell_type": "code",
      "source": [
        "df.shape"
      ],
      "metadata": {
        "colab": {
          "base_uri": "https://localhost:8080/"
        },
        "id": "EhRbiSWbIRty",
        "outputId": "4c72f770-4b8e-40d1-f955-4a1160869a19"
      },
      "execution_count": 31,
      "outputs": [
        {
          "output_type": "execute_result",
          "data": {
            "text/plain": [
              "(41188, 21)"
            ]
          },
          "metadata": {},
          "execution_count": 31
        }
      ]
    },
    {
      "cell_type": "code",
      "source": [
        "print(df.columns)"
      ],
      "metadata": {
        "colab": {
          "base_uri": "https://localhost:8080/"
        },
        "id": "_sHdUENfFDP9",
        "outputId": "68c5130b-0c3a-4884-98f9-b99c01629bca"
      },
      "execution_count": 32,
      "outputs": [
        {
          "output_type": "stream",
          "name": "stdout",
          "text": [
            "Index(['age', 'job', 'marital', 'education', 'default', 'housing', 'loan',\n",
            "       'contact', 'month', 'day_of_week', 'duration', 'campaign', 'pdays',\n",
            "       'previous', 'poutcome', 'emp_var_rate', 'cons_price_idx',\n",
            "       'cons_conf_idx', 'euribor3m', 'nr_employed', 'y'],\n",
            "      dtype='object')\n"
          ]
        }
      ]
    },
    {
      "cell_type": "code",
      "source": [
        "df['duration'].dtypes"
      ],
      "metadata": {
        "colab": {
          "base_uri": "https://localhost:8080/"
        },
        "id": "TnBPNHf-O_-x",
        "outputId": "fde2dd04-2e12-4ad0-de68-71193d0d27a4"
      },
      "execution_count": 33,
      "outputs": [
        {
          "output_type": "execute_result",
          "data": {
            "text/plain": [
              "dtype('int64')"
            ]
          },
          "metadata": {},
          "execution_count": 33
        }
      ]
    },
    {
      "cell_type": "markdown",
      "source": [
        "# Task 1. Converting categorial and string values to number representation acceptable for the neural network"
      ],
      "metadata": {
        "id": "71W56tRnMBe5"
      }
    },
    {
      "cell_type": "code",
      "source": [
        "y = df['y']\n",
        "df.drop(\"y\", axis=1, inplace=True)"
      ],
      "metadata": {
        "id": "9SNa9DWd1f52"
      },
      "execution_count": 34,
      "outputs": []
    },
    {
      "cell_type": "code",
      "source": [
        "df1 = df.select_dtypes(exclude=[\"number\"])\n",
        "df2 = df.select_dtypes(include=[\"number\"])"
      ],
      "metadata": {
        "id": "Pf7a1aI8_M5M"
      },
      "execution_count": 35,
      "outputs": []
    },
    {
      "cell_type": "code",
      "source": [
        "df1"
      ],
      "metadata": {
        "colab": {
          "base_uri": "https://localhost:8080/",
          "height": 424
        },
        "id": "dpqeFiywhBf4",
        "outputId": "abf13a33-9a2f-4549-fe32-a70c178e8485"
      },
      "execution_count": 36,
      "outputs": [
        {
          "output_type": "execute_result",
          "data": {
            "text/plain": [
              "               job  marital            education  default housing loan  \\\n",
              "0      blue-collar  married             basic.4y  unknown     yes   no   \n",
              "1       technician  married              unknown       no      no   no   \n",
              "2       management   single    university.degree       no     yes   no   \n",
              "3         services  married          high.school       no      no   no   \n",
              "4          retired  married             basic.4y       no     yes   no   \n",
              "...            ...      ...                  ...      ...     ...  ...   \n",
              "41183      retired  married          high.school  unknown      no  yes   \n",
              "41184    housemaid  married             basic.4y  unknown      no   no   \n",
              "41185       admin.   single    university.degree  unknown     yes  yes   \n",
              "41186   technician  married  professional.course       no      no  yes   \n",
              "41187      student   single          high.school       no      no   no   \n",
              "\n",
              "         contact month day_of_week     poutcome  \n",
              "0       cellular   aug         thu  nonexistent  \n",
              "1       cellular   nov         fri  nonexistent  \n",
              "2       cellular   jun         thu      success  \n",
              "3       cellular   apr         fri  nonexistent  \n",
              "4       cellular   aug         fri      success  \n",
              "...          ...   ...         ...          ...  \n",
              "41183  telephone   jun         thu  nonexistent  \n",
              "41184  telephone   may         thu  nonexistent  \n",
              "41185  telephone   may         wed  nonexistent  \n",
              "41186  telephone   oct         tue  nonexistent  \n",
              "41187  telephone   may         fri  nonexistent  \n",
              "\n",
              "[41188 rows x 10 columns]"
            ],
            "text/html": [
              "\n",
              "  <div id=\"df-004abf46-10bf-406f-bb9e-7c615dd92d8b\">\n",
              "    <div class=\"colab-df-container\">\n",
              "      <div>\n",
              "<style scoped>\n",
              "    .dataframe tbody tr th:only-of-type {\n",
              "        vertical-align: middle;\n",
              "    }\n",
              "\n",
              "    .dataframe tbody tr th {\n",
              "        vertical-align: top;\n",
              "    }\n",
              "\n",
              "    .dataframe thead th {\n",
              "        text-align: right;\n",
              "    }\n",
              "</style>\n",
              "<table border=\"1\" class=\"dataframe\">\n",
              "  <thead>\n",
              "    <tr style=\"text-align: right;\">\n",
              "      <th></th>\n",
              "      <th>job</th>\n",
              "      <th>marital</th>\n",
              "      <th>education</th>\n",
              "      <th>default</th>\n",
              "      <th>housing</th>\n",
              "      <th>loan</th>\n",
              "      <th>contact</th>\n",
              "      <th>month</th>\n",
              "      <th>day_of_week</th>\n",
              "      <th>poutcome</th>\n",
              "    </tr>\n",
              "  </thead>\n",
              "  <tbody>\n",
              "    <tr>\n",
              "      <th>0</th>\n",
              "      <td>blue-collar</td>\n",
              "      <td>married</td>\n",
              "      <td>basic.4y</td>\n",
              "      <td>unknown</td>\n",
              "      <td>yes</td>\n",
              "      <td>no</td>\n",
              "      <td>cellular</td>\n",
              "      <td>aug</td>\n",
              "      <td>thu</td>\n",
              "      <td>nonexistent</td>\n",
              "    </tr>\n",
              "    <tr>\n",
              "      <th>1</th>\n",
              "      <td>technician</td>\n",
              "      <td>married</td>\n",
              "      <td>unknown</td>\n",
              "      <td>no</td>\n",
              "      <td>no</td>\n",
              "      <td>no</td>\n",
              "      <td>cellular</td>\n",
              "      <td>nov</td>\n",
              "      <td>fri</td>\n",
              "      <td>nonexistent</td>\n",
              "    </tr>\n",
              "    <tr>\n",
              "      <th>2</th>\n",
              "      <td>management</td>\n",
              "      <td>single</td>\n",
              "      <td>university.degree</td>\n",
              "      <td>no</td>\n",
              "      <td>yes</td>\n",
              "      <td>no</td>\n",
              "      <td>cellular</td>\n",
              "      <td>jun</td>\n",
              "      <td>thu</td>\n",
              "      <td>success</td>\n",
              "    </tr>\n",
              "    <tr>\n",
              "      <th>3</th>\n",
              "      <td>services</td>\n",
              "      <td>married</td>\n",
              "      <td>high.school</td>\n",
              "      <td>no</td>\n",
              "      <td>no</td>\n",
              "      <td>no</td>\n",
              "      <td>cellular</td>\n",
              "      <td>apr</td>\n",
              "      <td>fri</td>\n",
              "      <td>nonexistent</td>\n",
              "    </tr>\n",
              "    <tr>\n",
              "      <th>4</th>\n",
              "      <td>retired</td>\n",
              "      <td>married</td>\n",
              "      <td>basic.4y</td>\n",
              "      <td>no</td>\n",
              "      <td>yes</td>\n",
              "      <td>no</td>\n",
              "      <td>cellular</td>\n",
              "      <td>aug</td>\n",
              "      <td>fri</td>\n",
              "      <td>success</td>\n",
              "    </tr>\n",
              "    <tr>\n",
              "      <th>...</th>\n",
              "      <td>...</td>\n",
              "      <td>...</td>\n",
              "      <td>...</td>\n",
              "      <td>...</td>\n",
              "      <td>...</td>\n",
              "      <td>...</td>\n",
              "      <td>...</td>\n",
              "      <td>...</td>\n",
              "      <td>...</td>\n",
              "      <td>...</td>\n",
              "    </tr>\n",
              "    <tr>\n",
              "      <th>41183</th>\n",
              "      <td>retired</td>\n",
              "      <td>married</td>\n",
              "      <td>high.school</td>\n",
              "      <td>unknown</td>\n",
              "      <td>no</td>\n",
              "      <td>yes</td>\n",
              "      <td>telephone</td>\n",
              "      <td>jun</td>\n",
              "      <td>thu</td>\n",
              "      <td>nonexistent</td>\n",
              "    </tr>\n",
              "    <tr>\n",
              "      <th>41184</th>\n",
              "      <td>housemaid</td>\n",
              "      <td>married</td>\n",
              "      <td>basic.4y</td>\n",
              "      <td>unknown</td>\n",
              "      <td>no</td>\n",
              "      <td>no</td>\n",
              "      <td>telephone</td>\n",
              "      <td>may</td>\n",
              "      <td>thu</td>\n",
              "      <td>nonexistent</td>\n",
              "    </tr>\n",
              "    <tr>\n",
              "      <th>41185</th>\n",
              "      <td>admin.</td>\n",
              "      <td>single</td>\n",
              "      <td>university.degree</td>\n",
              "      <td>unknown</td>\n",
              "      <td>yes</td>\n",
              "      <td>yes</td>\n",
              "      <td>telephone</td>\n",
              "      <td>may</td>\n",
              "      <td>wed</td>\n",
              "      <td>nonexistent</td>\n",
              "    </tr>\n",
              "    <tr>\n",
              "      <th>41186</th>\n",
              "      <td>technician</td>\n",
              "      <td>married</td>\n",
              "      <td>professional.course</td>\n",
              "      <td>no</td>\n",
              "      <td>no</td>\n",
              "      <td>yes</td>\n",
              "      <td>telephone</td>\n",
              "      <td>oct</td>\n",
              "      <td>tue</td>\n",
              "      <td>nonexistent</td>\n",
              "    </tr>\n",
              "    <tr>\n",
              "      <th>41187</th>\n",
              "      <td>student</td>\n",
              "      <td>single</td>\n",
              "      <td>high.school</td>\n",
              "      <td>no</td>\n",
              "      <td>no</td>\n",
              "      <td>no</td>\n",
              "      <td>telephone</td>\n",
              "      <td>may</td>\n",
              "      <td>fri</td>\n",
              "      <td>nonexistent</td>\n",
              "    </tr>\n",
              "  </tbody>\n",
              "</table>\n",
              "<p>41188 rows × 10 columns</p>\n",
              "</div>\n",
              "      <button class=\"colab-df-convert\" onclick=\"convertToInteractive('df-004abf46-10bf-406f-bb9e-7c615dd92d8b')\"\n",
              "              title=\"Convert this dataframe to an interactive table.\"\n",
              "              style=\"display:none;\">\n",
              "        \n",
              "  <svg xmlns=\"http://www.w3.org/2000/svg\" height=\"24px\"viewBox=\"0 0 24 24\"\n",
              "       width=\"24px\">\n",
              "    <path d=\"M0 0h24v24H0V0z\" fill=\"none\"/>\n",
              "    <path d=\"M18.56 5.44l.94 2.06.94-2.06 2.06-.94-2.06-.94-.94-2.06-.94 2.06-2.06.94zm-11 1L8.5 8.5l.94-2.06 2.06-.94-2.06-.94L8.5 2.5l-.94 2.06-2.06.94zm10 10l.94 2.06.94-2.06 2.06-.94-2.06-.94-.94-2.06-.94 2.06-2.06.94z\"/><path d=\"M17.41 7.96l-1.37-1.37c-.4-.4-.92-.59-1.43-.59-.52 0-1.04.2-1.43.59L10.3 9.45l-7.72 7.72c-.78.78-.78 2.05 0 2.83L4 21.41c.39.39.9.59 1.41.59.51 0 1.02-.2 1.41-.59l7.78-7.78 2.81-2.81c.8-.78.8-2.07 0-2.86zM5.41 20L4 18.59l7.72-7.72 1.47 1.35L5.41 20z\"/>\n",
              "  </svg>\n",
              "      </button>\n",
              "      \n",
              "  <style>\n",
              "    .colab-df-container {\n",
              "      display:flex;\n",
              "      flex-wrap:wrap;\n",
              "      gap: 12px;\n",
              "    }\n",
              "\n",
              "    .colab-df-convert {\n",
              "      background-color: #E8F0FE;\n",
              "      border: none;\n",
              "      border-radius: 50%;\n",
              "      cursor: pointer;\n",
              "      display: none;\n",
              "      fill: #1967D2;\n",
              "      height: 32px;\n",
              "      padding: 0 0 0 0;\n",
              "      width: 32px;\n",
              "    }\n",
              "\n",
              "    .colab-df-convert:hover {\n",
              "      background-color: #E2EBFA;\n",
              "      box-shadow: 0px 1px 2px rgba(60, 64, 67, 0.3), 0px 1px 3px 1px rgba(60, 64, 67, 0.15);\n",
              "      fill: #174EA6;\n",
              "    }\n",
              "\n",
              "    [theme=dark] .colab-df-convert {\n",
              "      background-color: #3B4455;\n",
              "      fill: #D2E3FC;\n",
              "    }\n",
              "\n",
              "    [theme=dark] .colab-df-convert:hover {\n",
              "      background-color: #434B5C;\n",
              "      box-shadow: 0px 1px 3px 1px rgba(0, 0, 0, 0.15);\n",
              "      filter: drop-shadow(0px 1px 2px rgba(0, 0, 0, 0.3));\n",
              "      fill: #FFFFFF;\n",
              "    }\n",
              "  </style>\n",
              "\n",
              "      <script>\n",
              "        const buttonEl =\n",
              "          document.querySelector('#df-004abf46-10bf-406f-bb9e-7c615dd92d8b button.colab-df-convert');\n",
              "        buttonEl.style.display =\n",
              "          google.colab.kernel.accessAllowed ? 'block' : 'none';\n",
              "\n",
              "        async function convertToInteractive(key) {\n",
              "          const element = document.querySelector('#df-004abf46-10bf-406f-bb9e-7c615dd92d8b');\n",
              "          const dataTable =\n",
              "            await google.colab.kernel.invokeFunction('convertToInteractive',\n",
              "                                                     [key], {});\n",
              "          if (!dataTable) return;\n",
              "\n",
              "          const docLinkHtml = 'Like what you see? Visit the ' +\n",
              "            '<a target=\"_blank\" href=https://colab.research.google.com/notebooks/data_table.ipynb>data table notebook</a>'\n",
              "            + ' to learn more about interactive tables.';\n",
              "          element.innerHTML = '';\n",
              "          dataTable['output_type'] = 'display_data';\n",
              "          await google.colab.output.renderOutput(dataTable, element);\n",
              "          const docLink = document.createElement('div');\n",
              "          docLink.innerHTML = docLinkHtml;\n",
              "          element.appendChild(docLink);\n",
              "        }\n",
              "      </script>\n",
              "    </div>\n",
              "  </div>\n",
              "  "
            ]
          },
          "metadata": {},
          "execution_count": 36
        }
      ]
    },
    {
      "cell_type": "code",
      "source": [
        "df2"
      ],
      "metadata": {
        "colab": {
          "base_uri": "https://localhost:8080/",
          "height": 424
        },
        "id": "n8EgB5FFhEHo",
        "outputId": "78162a45-0a90-432b-bb97-10acf6a85e09"
      },
      "execution_count": 37,
      "outputs": [
        {
          "output_type": "execute_result",
          "data": {
            "text/plain": [
              "       age  duration  campaign  pdays  previous  emp_var_rate  cons_price_idx  \\\n",
              "0       44       210         1    999         0           1.4          93.444   \n",
              "1       53       138         1    999         0          -0.1          93.200   \n",
              "2       28       339         3      6         2          -1.7          94.055   \n",
              "3       39       185         2    999         0          -1.8          93.075   \n",
              "4       55       137         1      3         1          -2.9          92.201   \n",
              "...    ...       ...       ...    ...       ...           ...             ...   \n",
              "41183   59       222         1    999         0           1.4          94.465   \n",
              "41184   31       196         2    999         0           1.1          93.994   \n",
              "41185   42        62         3    999         0           1.1          93.994   \n",
              "41186   48       200         2    999         0          -3.4          92.431   \n",
              "41187   25       112         4    999         0           1.1          93.994   \n",
              "\n",
              "       cons_conf_idx  euribor3m  nr_employed  \n",
              "0              -36.1      4.963       5228.1  \n",
              "1              -42.0      4.021       5195.8  \n",
              "2              -39.8      0.729       4991.6  \n",
              "3              -47.1      1.405       5099.1  \n",
              "4              -31.4      0.869       5076.2  \n",
              "...              ...        ...          ...  \n",
              "41183          -41.8      4.866       5228.1  \n",
              "41184          -36.4      4.860       5191.0  \n",
              "41185          -36.4      4.857       5191.0  \n",
              "41186          -26.9      0.742       5017.5  \n",
              "41187          -36.4      4.859       5191.0  \n",
              "\n",
              "[41188 rows x 10 columns]"
            ],
            "text/html": [
              "\n",
              "  <div id=\"df-b3691c93-4113-438e-893a-411693496a04\">\n",
              "    <div class=\"colab-df-container\">\n",
              "      <div>\n",
              "<style scoped>\n",
              "    .dataframe tbody tr th:only-of-type {\n",
              "        vertical-align: middle;\n",
              "    }\n",
              "\n",
              "    .dataframe tbody tr th {\n",
              "        vertical-align: top;\n",
              "    }\n",
              "\n",
              "    .dataframe thead th {\n",
              "        text-align: right;\n",
              "    }\n",
              "</style>\n",
              "<table border=\"1\" class=\"dataframe\">\n",
              "  <thead>\n",
              "    <tr style=\"text-align: right;\">\n",
              "      <th></th>\n",
              "      <th>age</th>\n",
              "      <th>duration</th>\n",
              "      <th>campaign</th>\n",
              "      <th>pdays</th>\n",
              "      <th>previous</th>\n",
              "      <th>emp_var_rate</th>\n",
              "      <th>cons_price_idx</th>\n",
              "      <th>cons_conf_idx</th>\n",
              "      <th>euribor3m</th>\n",
              "      <th>nr_employed</th>\n",
              "    </tr>\n",
              "  </thead>\n",
              "  <tbody>\n",
              "    <tr>\n",
              "      <th>0</th>\n",
              "      <td>44</td>\n",
              "      <td>210</td>\n",
              "      <td>1</td>\n",
              "      <td>999</td>\n",
              "      <td>0</td>\n",
              "      <td>1.4</td>\n",
              "      <td>93.444</td>\n",
              "      <td>-36.1</td>\n",
              "      <td>4.963</td>\n",
              "      <td>5228.1</td>\n",
              "    </tr>\n",
              "    <tr>\n",
              "      <th>1</th>\n",
              "      <td>53</td>\n",
              "      <td>138</td>\n",
              "      <td>1</td>\n",
              "      <td>999</td>\n",
              "      <td>0</td>\n",
              "      <td>-0.1</td>\n",
              "      <td>93.200</td>\n",
              "      <td>-42.0</td>\n",
              "      <td>4.021</td>\n",
              "      <td>5195.8</td>\n",
              "    </tr>\n",
              "    <tr>\n",
              "      <th>2</th>\n",
              "      <td>28</td>\n",
              "      <td>339</td>\n",
              "      <td>3</td>\n",
              "      <td>6</td>\n",
              "      <td>2</td>\n",
              "      <td>-1.7</td>\n",
              "      <td>94.055</td>\n",
              "      <td>-39.8</td>\n",
              "      <td>0.729</td>\n",
              "      <td>4991.6</td>\n",
              "    </tr>\n",
              "    <tr>\n",
              "      <th>3</th>\n",
              "      <td>39</td>\n",
              "      <td>185</td>\n",
              "      <td>2</td>\n",
              "      <td>999</td>\n",
              "      <td>0</td>\n",
              "      <td>-1.8</td>\n",
              "      <td>93.075</td>\n",
              "      <td>-47.1</td>\n",
              "      <td>1.405</td>\n",
              "      <td>5099.1</td>\n",
              "    </tr>\n",
              "    <tr>\n",
              "      <th>4</th>\n",
              "      <td>55</td>\n",
              "      <td>137</td>\n",
              "      <td>1</td>\n",
              "      <td>3</td>\n",
              "      <td>1</td>\n",
              "      <td>-2.9</td>\n",
              "      <td>92.201</td>\n",
              "      <td>-31.4</td>\n",
              "      <td>0.869</td>\n",
              "      <td>5076.2</td>\n",
              "    </tr>\n",
              "    <tr>\n",
              "      <th>...</th>\n",
              "      <td>...</td>\n",
              "      <td>...</td>\n",
              "      <td>...</td>\n",
              "      <td>...</td>\n",
              "      <td>...</td>\n",
              "      <td>...</td>\n",
              "      <td>...</td>\n",
              "      <td>...</td>\n",
              "      <td>...</td>\n",
              "      <td>...</td>\n",
              "    </tr>\n",
              "    <tr>\n",
              "      <th>41183</th>\n",
              "      <td>59</td>\n",
              "      <td>222</td>\n",
              "      <td>1</td>\n",
              "      <td>999</td>\n",
              "      <td>0</td>\n",
              "      <td>1.4</td>\n",
              "      <td>94.465</td>\n",
              "      <td>-41.8</td>\n",
              "      <td>4.866</td>\n",
              "      <td>5228.1</td>\n",
              "    </tr>\n",
              "    <tr>\n",
              "      <th>41184</th>\n",
              "      <td>31</td>\n",
              "      <td>196</td>\n",
              "      <td>2</td>\n",
              "      <td>999</td>\n",
              "      <td>0</td>\n",
              "      <td>1.1</td>\n",
              "      <td>93.994</td>\n",
              "      <td>-36.4</td>\n",
              "      <td>4.860</td>\n",
              "      <td>5191.0</td>\n",
              "    </tr>\n",
              "    <tr>\n",
              "      <th>41185</th>\n",
              "      <td>42</td>\n",
              "      <td>62</td>\n",
              "      <td>3</td>\n",
              "      <td>999</td>\n",
              "      <td>0</td>\n",
              "      <td>1.1</td>\n",
              "      <td>93.994</td>\n",
              "      <td>-36.4</td>\n",
              "      <td>4.857</td>\n",
              "      <td>5191.0</td>\n",
              "    </tr>\n",
              "    <tr>\n",
              "      <th>41186</th>\n",
              "      <td>48</td>\n",
              "      <td>200</td>\n",
              "      <td>2</td>\n",
              "      <td>999</td>\n",
              "      <td>0</td>\n",
              "      <td>-3.4</td>\n",
              "      <td>92.431</td>\n",
              "      <td>-26.9</td>\n",
              "      <td>0.742</td>\n",
              "      <td>5017.5</td>\n",
              "    </tr>\n",
              "    <tr>\n",
              "      <th>41187</th>\n",
              "      <td>25</td>\n",
              "      <td>112</td>\n",
              "      <td>4</td>\n",
              "      <td>999</td>\n",
              "      <td>0</td>\n",
              "      <td>1.1</td>\n",
              "      <td>93.994</td>\n",
              "      <td>-36.4</td>\n",
              "      <td>4.859</td>\n",
              "      <td>5191.0</td>\n",
              "    </tr>\n",
              "  </tbody>\n",
              "</table>\n",
              "<p>41188 rows × 10 columns</p>\n",
              "</div>\n",
              "      <button class=\"colab-df-convert\" onclick=\"convertToInteractive('df-b3691c93-4113-438e-893a-411693496a04')\"\n",
              "              title=\"Convert this dataframe to an interactive table.\"\n",
              "              style=\"display:none;\">\n",
              "        \n",
              "  <svg xmlns=\"http://www.w3.org/2000/svg\" height=\"24px\"viewBox=\"0 0 24 24\"\n",
              "       width=\"24px\">\n",
              "    <path d=\"M0 0h24v24H0V0z\" fill=\"none\"/>\n",
              "    <path d=\"M18.56 5.44l.94 2.06.94-2.06 2.06-.94-2.06-.94-.94-2.06-.94 2.06-2.06.94zm-11 1L8.5 8.5l.94-2.06 2.06-.94-2.06-.94L8.5 2.5l-.94 2.06-2.06.94zm10 10l.94 2.06.94-2.06 2.06-.94-2.06-.94-.94-2.06-.94 2.06-2.06.94z\"/><path d=\"M17.41 7.96l-1.37-1.37c-.4-.4-.92-.59-1.43-.59-.52 0-1.04.2-1.43.59L10.3 9.45l-7.72 7.72c-.78.78-.78 2.05 0 2.83L4 21.41c.39.39.9.59 1.41.59.51 0 1.02-.2 1.41-.59l7.78-7.78 2.81-2.81c.8-.78.8-2.07 0-2.86zM5.41 20L4 18.59l7.72-7.72 1.47 1.35L5.41 20z\"/>\n",
              "  </svg>\n",
              "      </button>\n",
              "      \n",
              "  <style>\n",
              "    .colab-df-container {\n",
              "      display:flex;\n",
              "      flex-wrap:wrap;\n",
              "      gap: 12px;\n",
              "    }\n",
              "\n",
              "    .colab-df-convert {\n",
              "      background-color: #E8F0FE;\n",
              "      border: none;\n",
              "      border-radius: 50%;\n",
              "      cursor: pointer;\n",
              "      display: none;\n",
              "      fill: #1967D2;\n",
              "      height: 32px;\n",
              "      padding: 0 0 0 0;\n",
              "      width: 32px;\n",
              "    }\n",
              "\n",
              "    .colab-df-convert:hover {\n",
              "      background-color: #E2EBFA;\n",
              "      box-shadow: 0px 1px 2px rgba(60, 64, 67, 0.3), 0px 1px 3px 1px rgba(60, 64, 67, 0.15);\n",
              "      fill: #174EA6;\n",
              "    }\n",
              "\n",
              "    [theme=dark] .colab-df-convert {\n",
              "      background-color: #3B4455;\n",
              "      fill: #D2E3FC;\n",
              "    }\n",
              "\n",
              "    [theme=dark] .colab-df-convert:hover {\n",
              "      background-color: #434B5C;\n",
              "      box-shadow: 0px 1px 3px 1px rgba(0, 0, 0, 0.15);\n",
              "      filter: drop-shadow(0px 1px 2px rgba(0, 0, 0, 0.3));\n",
              "      fill: #FFFFFF;\n",
              "    }\n",
              "  </style>\n",
              "\n",
              "      <script>\n",
              "        const buttonEl =\n",
              "          document.querySelector('#df-b3691c93-4113-438e-893a-411693496a04 button.colab-df-convert');\n",
              "        buttonEl.style.display =\n",
              "          google.colab.kernel.accessAllowed ? 'block' : 'none';\n",
              "\n",
              "        async function convertToInteractive(key) {\n",
              "          const element = document.querySelector('#df-b3691c93-4113-438e-893a-411693496a04');\n",
              "          const dataTable =\n",
              "            await google.colab.kernel.invokeFunction('convertToInteractive',\n",
              "                                                     [key], {});\n",
              "          if (!dataTable) return;\n",
              "\n",
              "          const docLinkHtml = 'Like what you see? Visit the ' +\n",
              "            '<a target=\"_blank\" href=https://colab.research.google.com/notebooks/data_table.ipynb>data table notebook</a>'\n",
              "            + ' to learn more about interactive tables.';\n",
              "          element.innerHTML = '';\n",
              "          dataTable['output_type'] = 'display_data';\n",
              "          await google.colab.output.renderOutput(dataTable, element);\n",
              "          const docLink = document.createElement('div');\n",
              "          docLink.innerHTML = docLinkHtml;\n",
              "          element.appendChild(docLink);\n",
              "        }\n",
              "      </script>\n",
              "    </div>\n",
              "  </div>\n",
              "  "
            ]
          },
          "metadata": {},
          "execution_count": 37
        }
      ]
    },
    {
      "cell_type": "code",
      "source": [
        "from sklearn.preprocessing import LabelEncoder \n",
        "oe = LabelEncoder()\n",
        "\n",
        "for column in df1:\n",
        "  col = oe.fit_transform(df1[column])\n",
        "  df1.drop(column, axis=1, inplace=True)\n",
        "  df1[column] = col"
      ],
      "metadata": {
        "id": "EE8M38nLFDTT",
        "colab": {
          "base_uri": "https://localhost:8080/"
        },
        "outputId": "7c845b16-547a-4ee3-8a61-455f2b302355"
      },
      "execution_count": 38,
      "outputs": [
        {
          "output_type": "stream",
          "name": "stderr",
          "text": [
            "/usr/local/lib/python3.7/dist-packages/pandas/core/frame.py:4913: SettingWithCopyWarning: \n",
            "A value is trying to be set on a copy of a slice from a DataFrame\n",
            "\n",
            "See the caveats in the documentation: https://pandas.pydata.org/pandas-docs/stable/user_guide/indexing.html#returning-a-view-versus-a-copy\n",
            "  errors=errors,\n",
            "/usr/local/lib/python3.7/dist-packages/ipykernel_launcher.py:7: SettingWithCopyWarning: \n",
            "A value is trying to be set on a copy of a slice from a DataFrame.\n",
            "Try using .loc[row_indexer,col_indexer] = value instead\n",
            "\n",
            "See the caveats in the documentation: https://pandas.pydata.org/pandas-docs/stable/user_guide/indexing.html#returning-a-view-versus-a-copy\n",
            "  import sys\n"
          ]
        }
      ]
    },
    {
      "cell_type": "code",
      "source": [
        "df= pd.concat([df1,df2],axis=1)"
      ],
      "metadata": {
        "id": "frG7F6oQkwUq"
      },
      "execution_count": 39,
      "outputs": []
    },
    {
      "cell_type": "code",
      "source": [
        "print(df['housing'].unique())\n",
        "print(df['loan'].unique())\n",
        "print(df['marital'].unique())"
      ],
      "metadata": {
        "id": "x7ah26mGa0Ru",
        "colab": {
          "base_uri": "https://localhost:8080/"
        },
        "outputId": "44d22ca8-f0ac-4ed9-f6f2-47bb4ec18894"
      },
      "execution_count": 40,
      "outputs": [
        {
          "output_type": "stream",
          "name": "stdout",
          "text": [
            "[2 0 1]\n",
            "[0 2 1]\n",
            "[1 2 0 3]\n"
          ]
        }
      ]
    },
    {
      "cell_type": "markdown",
      "source": [
        "# After Conversion, DataFrame is"
      ],
      "metadata": {
        "id": "cEBQB4fBMae7"
      }
    },
    {
      "cell_type": "code",
      "source": [
        "print(len(list(df.columns)))\n",
        "print(df.shape)\n",
        "print(df.columns)"
      ],
      "metadata": {
        "id": "Zl_QMqMFRkdW",
        "colab": {
          "base_uri": "https://localhost:8080/"
        },
        "outputId": "00f0d065-7485-4b84-93c2-6c918fef429d"
      },
      "execution_count": 41,
      "outputs": [
        {
          "output_type": "stream",
          "name": "stdout",
          "text": [
            "20\n",
            "(41188, 20)\n",
            "Index(['job', 'marital', 'education', 'default', 'housing', 'loan', 'contact',\n",
            "       'month', 'day_of_week', 'poutcome', 'age', 'duration', 'campaign',\n",
            "       'pdays', 'previous', 'emp_var_rate', 'cons_price_idx', 'cons_conf_idx',\n",
            "       'euribor3m', 'nr_employed'],\n",
            "      dtype='object')\n"
          ]
        }
      ]
    },
    {
      "cell_type": "code",
      "source": [
        "import numpy as np\n",
        "X = df"
      ],
      "metadata": {
        "id": "29RehHWpR514"
      },
      "execution_count": 42,
      "outputs": []
    },
    {
      "cell_type": "code",
      "source": [
        "print(X.columns)"
      ],
      "metadata": {
        "id": "ENPPHhm7ZT2S",
        "colab": {
          "base_uri": "https://localhost:8080/"
        },
        "outputId": "e05e1c80-1f41-41be-e661-a2086307b4f3"
      },
      "execution_count": 43,
      "outputs": [
        {
          "output_type": "stream",
          "name": "stdout",
          "text": [
            "Index(['job', 'marital', 'education', 'default', 'housing', 'loan', 'contact',\n",
            "       'month', 'day_of_week', 'poutcome', 'age', 'duration', 'campaign',\n",
            "       'pdays', 'previous', 'emp_var_rate', 'cons_price_idx', 'cons_conf_idx',\n",
            "       'euribor3m', 'nr_employed'],\n",
            "      dtype='object')\n"
          ]
        }
      ]
    },
    {
      "cell_type": "code",
      "source": [
        "len(list(X.columns))"
      ],
      "metadata": {
        "id": "f_rQ3LEBYOyk",
        "colab": {
          "base_uri": "https://localhost:8080/"
        },
        "outputId": "ca29dcb6-c29b-4eff-8b58-b6af67c7bd0d"
      },
      "execution_count": 44,
      "outputs": [
        {
          "output_type": "execute_result",
          "data": {
            "text/plain": [
              "20"
            ]
          },
          "metadata": {},
          "execution_count": 44
        }
      ]
    },
    {
      "cell_type": "markdown",
      "source": [
        "# Task 2.   Define a fully connected deep neural network with three hidden layers of 128, 64 and 32 with appropriate input and output layers."
      ],
      "metadata": {
        "id": "a2MhSLEoMt5h"
      }
    },
    {
      "cell_type": "code",
      "source": [
        "from tensorflow import keras\n",
        "from tensorflow.keras import layers\n",
        "\n",
        "model = keras.Sequential([                        \n",
        "    layers.Dense(128, activation=\"relu\"),\n",
        "    layers.Dense(64, activation=\"relu\"),\n",
        "    layers.Dense(32, activation=\"relu\"),\n",
        "    layers.Dense(1, activation=\"sigmoid\")\n",
        "])"
      ],
      "metadata": {
        "id": "dB-RmApRdX-p"
      },
      "execution_count": 45,
      "outputs": []
    },
    {
      "cell_type": "code",
      "source": [
        "model.compile(optimizer=\"rmsprop\",\n",
        "              loss=\"binary_crossentropy\",\n",
        "              metrics=[\"accuracy\"])"
      ],
      "metadata": {
        "id": "af92aiQxd87U"
      },
      "execution_count": 46,
      "outputs": []
    },
    {
      "cell_type": "markdown",
      "source": [
        "# Task 3.   Split the data in 70-30 for train and test"
      ],
      "metadata": {
        "id": "DQ_VsVkxM7P-"
      }
    },
    {
      "cell_type": "code",
      "source": [
        "from sklearn.model_selection import train_test_split\n",
        "\n",
        "X_train, X_test, y_train, y_test = train_test_split(\n",
        "    X, y, test_size=0.3, stratify=y)"
      ],
      "metadata": {
        "id": "uAMfBcTRYZ7T"
      },
      "execution_count": 47,
      "outputs": []
    },
    {
      "cell_type": "code",
      "source": [
        "print('Labels count in y:', np.bincount(y))\n",
        "print('Labels count in y_train:', np.bincount(y_train))\n",
        "print('Labels count in y_test:', np.bincount(y_test))"
      ],
      "metadata": {
        "id": "pEzq5q1OY1nz",
        "colab": {
          "base_uri": "https://localhost:8080/"
        },
        "outputId": "24b154ee-7db0-4109-bb4f-0b1a9a099c2e"
      },
      "execution_count": 48,
      "outputs": [
        {
          "output_type": "stream",
          "name": "stdout",
          "text": [
            "Labels count in y: [36548  4640]\n",
            "Labels count in y_train: [25583  3248]\n",
            "Labels count in y_test: [10965  1392]\n"
          ]
        }
      ]
    },
    {
      "cell_type": "markdown",
      "source": [
        "Scaling the values between -1 and 1 using standard Scalar"
      ],
      "metadata": {
        "id": "gJQyLLh_NAIQ"
      }
    },
    {
      "cell_type": "code",
      "source": [
        "from sklearn.preprocessing import StandardScaler\n",
        "\n",
        "sc = StandardScaler()\n",
        "sc.fit(X_train)\n",
        "X_train_std = sc.transform(X_train)\n",
        "X_test_std = sc.transform(X_test)\n",
        "X = sc.transform(X)"
      ],
      "metadata": {
        "id": "5oZVJ7NlY1po"
      },
      "execution_count": 49,
      "outputs": []
    },
    {
      "cell_type": "code",
      "source": [
        "X_train_std"
      ],
      "metadata": {
        "id": "bBZ3od0wY1tL",
        "colab": {
          "base_uri": "https://localhost:8080/"
        },
        "outputId": "d9d15dc5-bc46-4fd0-9180-7db8354e116c"
      },
      "execution_count": 50,
      "outputs": [
        {
          "output_type": "execute_result",
          "data": {
            "text/plain": [
              "array([[-0.7646362 , -0.28082372, -0.82101149, ...,  0.88250628,\n",
              "         0.71162804,  0.3331707 ],\n",
              "       [-1.04237834, -1.92643929,  1.05306968, ..., -0.47893703,\n",
              "         0.77325139,  0.84601854],\n",
              "       [-1.04237834,  1.36479185,  1.05306968, ..., -0.32766555,\n",
              "         0.26298705,  0.39952298],\n",
              "       ...,\n",
              "       [-0.20915194, -0.28082372, -0.3524912 , ..., -1.23529442,\n",
              "        -1.31618318, -0.93719904],\n",
              "       [-0.7646362 , -1.92643929, -1.28953178, ..., -0.28444513,\n",
              "         0.77325139,  0.84601854],\n",
              "       [ 1.45730087, -0.28082372,  0.58454939, ...,  0.88250628,\n",
              "         0.71681132,  0.3331707 ]])"
            ]
          },
          "metadata": {},
          "execution_count": 50
        }
      ]
    },
    {
      "cell_type": "markdown",
      "source": [
        "Splitting training set into Train and Validation"
      ],
      "metadata": {
        "id": "evw8mz6vNHcF"
      }
    },
    {
      "cell_type": "code",
      "source": [
        "X_train_std, x_val, y_train, y_val = train_test_split(X_train_std, y_train, test_size=0.15, shuffle=True)"
      ],
      "metadata": {
        "id": "PO_trViFcy2r"
      },
      "execution_count": 51,
      "outputs": []
    },
    {
      "cell_type": "markdown",
      "source": [
        "# Task 4. Train the model on all 20 input variables and report the test accuracy"
      ],
      "metadata": {
        "id": "5TFYaIrUNOUz"
      }
    },
    {
      "cell_type": "code",
      "source": [
        "history = model.fit(X_train_std,\n",
        "                    y_train,\n",
        "                    epochs=20,\n",
        "                    batch_size=512,\n",
        "                    validation_data=(x_val, y_val))"
      ],
      "metadata": {
        "id": "_cF5e2awdRtt",
        "colab": {
          "base_uri": "https://localhost:8080/"
        },
        "outputId": "3de3f875-3e5f-41b9-f5ed-a354f6935084"
      },
      "execution_count": 52,
      "outputs": [
        {
          "output_type": "stream",
          "name": "stdout",
          "text": [
            "Epoch 1/20\n",
            "48/48 [==============================] - 4s 7ms/step - loss: 0.2767 - accuracy: 0.8908 - val_loss: 0.2085 - val_accuracy: 0.9103\n",
            "Epoch 2/20\n",
            "48/48 [==============================] - 0s 4ms/step - loss: 0.1984 - accuracy: 0.9110 - val_loss: 0.2006 - val_accuracy: 0.9114\n",
            "Epoch 3/20\n",
            "48/48 [==============================] - 0s 4ms/step - loss: 0.1917 - accuracy: 0.9123 - val_loss: 0.1986 - val_accuracy: 0.9121\n",
            "Epoch 4/20\n",
            "48/48 [==============================] - 0s 4ms/step - loss: 0.1881 - accuracy: 0.9138 - val_loss: 0.1969 - val_accuracy: 0.9098\n",
            "Epoch 5/20\n",
            "48/48 [==============================] - 0s 6ms/step - loss: 0.1850 - accuracy: 0.9159 - val_loss: 0.1966 - val_accuracy: 0.9101\n",
            "Epoch 6/20\n",
            "48/48 [==============================] - 0s 7ms/step - loss: 0.1822 - accuracy: 0.9165 - val_loss: 0.1967 - val_accuracy: 0.9114\n",
            "Epoch 7/20\n",
            "48/48 [==============================] - 0s 7ms/step - loss: 0.1798 - accuracy: 0.9177 - val_loss: 0.1952 - val_accuracy: 0.9091\n",
            "Epoch 8/20\n",
            "48/48 [==============================] - 0s 7ms/step - loss: 0.1773 - accuracy: 0.9192 - val_loss: 0.1959 - val_accuracy: 0.9089\n",
            "Epoch 9/20\n",
            "48/48 [==============================] - 0s 6ms/step - loss: 0.1761 - accuracy: 0.9202 - val_loss: 0.1945 - val_accuracy: 0.9108\n",
            "Epoch 10/20\n",
            "48/48 [==============================] - 0s 7ms/step - loss: 0.1741 - accuracy: 0.9185 - val_loss: 0.1929 - val_accuracy: 0.9077\n",
            "Epoch 11/20\n",
            "48/48 [==============================] - 0s 7ms/step - loss: 0.1728 - accuracy: 0.9211 - val_loss: 0.1931 - val_accuracy: 0.9084\n",
            "Epoch 12/20\n",
            "48/48 [==============================] - 0s 7ms/step - loss: 0.1712 - accuracy: 0.9209 - val_loss: 0.1922 - val_accuracy: 0.9105\n",
            "Epoch 13/20\n",
            "48/48 [==============================] - 0s 7ms/step - loss: 0.1692 - accuracy: 0.9218 - val_loss: 0.1915 - val_accuracy: 0.9098\n",
            "Epoch 14/20\n",
            "48/48 [==============================] - 0s 7ms/step - loss: 0.1677 - accuracy: 0.9219 - val_loss: 0.1942 - val_accuracy: 0.9050\n",
            "Epoch 15/20\n",
            "48/48 [==============================] - 0s 4ms/step - loss: 0.1660 - accuracy: 0.9235 - val_loss: 0.1909 - val_accuracy: 0.9087\n",
            "Epoch 16/20\n",
            "48/48 [==============================] - 0s 4ms/step - loss: 0.1652 - accuracy: 0.9236 - val_loss: 0.1907 - val_accuracy: 0.9066\n",
            "Epoch 17/20\n",
            "48/48 [==============================] - 0s 4ms/step - loss: 0.1627 - accuracy: 0.9261 - val_loss: 0.1922 - val_accuracy: 0.9057\n",
            "Epoch 18/20\n",
            "48/48 [==============================] - 0s 4ms/step - loss: 0.1619 - accuracy: 0.9252 - val_loss: 0.1942 - val_accuracy: 0.9084\n",
            "Epoch 19/20\n",
            "48/48 [==============================] - 0s 4ms/step - loss: 0.1609 - accuracy: 0.9267 - val_loss: 0.1911 - val_accuracy: 0.9061\n",
            "Epoch 20/20\n",
            "48/48 [==============================] - 0s 4ms/step - loss: 0.1596 - accuracy: 0.9270 - val_loss: 0.1915 - val_accuracy: 0.9068\n"
          ]
        }
      ]
    },
    {
      "cell_type": "code",
      "source": [
        "results = model.evaluate(X_test, y_test)"
      ],
      "metadata": {
        "id": "0GjZZuamfTof",
        "colab": {
          "base_uri": "https://localhost:8080/"
        },
        "outputId": "1e044258-3d45-4c1d-ca69-672d9af4a9b5"
      },
      "execution_count": 53,
      "outputs": [
        {
          "output_type": "stream",
          "name": "stdout",
          "text": [
            "387/387 [==============================] - 1s 2ms/step - loss: 952.9459 - accuracy: 0.8874\n"
          ]
        }
      ]
    },
    {
      "cell_type": "markdown",
      "source": [
        "# Test Accuracy is 88%"
      ],
      "metadata": {
        "id": "iH0UcomANo2c"
      }
    },
    {
      "cell_type": "markdown",
      "source": [
        "# Task 5. Use PCA to extract first five principle components on this dataset and report test accuracy on these principle components "
      ],
      "metadata": {
        "id": "rG1SX0DYNwUY"
      }
    },
    {
      "cell_type": "code",
      "source": [
        "from sklearn.decomposition import PCA\n",
        "pca = PCA(n_components=5)\n",
        "X_pca = pca.fit_transform(X)\n",
        "X_pca.shape"
      ],
      "metadata": {
        "id": "zp9jdIKXjAnP",
        "colab": {
          "base_uri": "https://localhost:8080/"
        },
        "outputId": "8ba6e05a-306d-4493-b269-4b1dccdf856f"
      },
      "execution_count": 54,
      "outputs": [
        {
          "output_type": "execute_result",
          "data": {
            "text/plain": [
              "(41188, 5)"
            ]
          },
          "metadata": {},
          "execution_count": 54
        }
      ]
    },
    {
      "cell_type": "code",
      "source": [
        "X_train_pca, X_test_pca, y_train, y_test = train_test_split(X_pca, y, test_size=0.3, shuffle=True)"
      ],
      "metadata": {
        "id": "sG2Y9IKHfTyQ"
      },
      "execution_count": 55,
      "outputs": []
    },
    {
      "cell_type": "code",
      "source": [
        "X_train_pca1, x_val, y_train, y_val = train_test_split(X_train_pca, y_train, test_size=0.15, shuffle=True)"
      ],
      "metadata": {
        "id": "KpA0Y1PtfT2i"
      },
      "execution_count": 56,
      "outputs": []
    },
    {
      "cell_type": "code",
      "source": [
        "from tensorflow import keras\n",
        "from tensorflow.keras import layers\n",
        "pca_model = keras.Sequential([                        \n",
        "    layers.Dense(128, activation=\"relu\"),\n",
        "    layers.Dense(64, activation=\"relu\"),\n",
        "    layers.Dense(32, activation=\"relu\"),\n",
        "    layers.Dense(1, activation=\"sigmoid\")\n",
        "])\n",
        "pca_model.compile(optimizer=\"rmsprop\",\n",
        "              loss=\"binary_crossentropy\",\n",
        "              metrics=[\"accuracy\"])"
      ],
      "metadata": {
        "id": "9oYLDD2Bk9aE"
      },
      "execution_count": 57,
      "outputs": []
    },
    {
      "cell_type": "code",
      "source": [
        "history = pca_model.fit(X_train_pca1,\n",
        "                    y_train,\n",
        "                    epochs=20,\n",
        "                    batch_size=512,\n",
        "                    validation_data=(x_val, y_val))"
      ],
      "metadata": {
        "id": "8wblfDHZfT6W",
        "colab": {
          "base_uri": "https://localhost:8080/"
        },
        "outputId": "5274326a-2ba3-4e23-970d-ffb2ec98be05"
      },
      "execution_count": 58,
      "outputs": [
        {
          "output_type": "stream",
          "name": "stdout",
          "text": [
            "Epoch 1/20\n",
            "48/48 [==============================] - 1s 7ms/step - loss: 0.3528 - accuracy: 0.8725 - val_loss: 0.2750 - val_accuracy: 0.8992\n",
            "Epoch 2/20\n",
            "48/48 [==============================] - 0s 4ms/step - loss: 0.2676 - accuracy: 0.8978 - val_loss: 0.2548 - val_accuracy: 0.8997\n",
            "Epoch 3/20\n",
            "48/48 [==============================] - 0s 4ms/step - loss: 0.2524 - accuracy: 0.8990 - val_loss: 0.2466 - val_accuracy: 0.9008\n",
            "Epoch 4/20\n",
            "48/48 [==============================] - 0s 4ms/step - loss: 0.2456 - accuracy: 0.9002 - val_loss: 0.2394 - val_accuracy: 0.9001\n",
            "Epoch 5/20\n",
            "48/48 [==============================] - 0s 4ms/step - loss: 0.2409 - accuracy: 0.9007 - val_loss: 0.2412 - val_accuracy: 0.9020\n",
            "Epoch 6/20\n",
            "48/48 [==============================] - 0s 4ms/step - loss: 0.2386 - accuracy: 0.9015 - val_loss: 0.2346 - val_accuracy: 0.9020\n",
            "Epoch 7/20\n",
            "48/48 [==============================] - 0s 4ms/step - loss: 0.2364 - accuracy: 0.9024 - val_loss: 0.2373 - val_accuracy: 0.9022\n",
            "Epoch 8/20\n",
            "48/48 [==============================] - 0s 4ms/step - loss: 0.2355 - accuracy: 0.9025 - val_loss: 0.2321 - val_accuracy: 0.9020\n",
            "Epoch 9/20\n",
            "48/48 [==============================] - 0s 4ms/step - loss: 0.2340 - accuracy: 0.9021 - val_loss: 0.2351 - val_accuracy: 0.9027\n",
            "Epoch 10/20\n",
            "48/48 [==============================] - 0s 4ms/step - loss: 0.2325 - accuracy: 0.9017 - val_loss: 0.2297 - val_accuracy: 0.9036\n",
            "Epoch 11/20\n",
            "48/48 [==============================] - 0s 5ms/step - loss: 0.2305 - accuracy: 0.9017 - val_loss: 0.2323 - val_accuracy: 0.9015\n",
            "Epoch 12/20\n",
            "48/48 [==============================] - 0s 4ms/step - loss: 0.2299 - accuracy: 0.9028 - val_loss: 0.2324 - val_accuracy: 0.9006\n",
            "Epoch 13/20\n",
            "48/48 [==============================] - 0s 4ms/step - loss: 0.2293 - accuracy: 0.9026 - val_loss: 0.2391 - val_accuracy: 0.9027\n",
            "Epoch 14/20\n",
            "48/48 [==============================] - 0s 4ms/step - loss: 0.2282 - accuracy: 0.9034 - val_loss: 0.2377 - val_accuracy: 0.8964\n",
            "Epoch 15/20\n",
            "48/48 [==============================] - 0s 4ms/step - loss: 0.2275 - accuracy: 0.9027 - val_loss: 0.2267 - val_accuracy: 0.8997\n",
            "Epoch 16/20\n",
            "48/48 [==============================] - 0s 4ms/step - loss: 0.2271 - accuracy: 0.9032 - val_loss: 0.2263 - val_accuracy: 0.8990\n",
            "Epoch 17/20\n",
            "48/48 [==============================] - 0s 4ms/step - loss: 0.2260 - accuracy: 0.9028 - val_loss: 0.2248 - val_accuracy: 0.9015\n",
            "Epoch 18/20\n",
            "48/48 [==============================] - 0s 4ms/step - loss: 0.2256 - accuracy: 0.9040 - val_loss: 0.2246 - val_accuracy: 0.9015\n",
            "Epoch 19/20\n",
            "48/48 [==============================] - 0s 4ms/step - loss: 0.2244 - accuracy: 0.9035 - val_loss: 0.2242 - val_accuracy: 0.9008\n",
            "Epoch 20/20\n",
            "48/48 [==============================] - 0s 4ms/step - loss: 0.2243 - accuracy: 0.9026 - val_loss: 0.2266 - val_accuracy: 0.8994\n"
          ]
        }
      ]
    },
    {
      "cell_type": "code",
      "source": [
        "results = pca_model.evaluate(X_test_pca, y_test)"
      ],
      "metadata": {
        "id": "krycu1Gqj1sw",
        "colab": {
          "base_uri": "https://localhost:8080/"
        },
        "outputId": "694c2bad-3621-4cff-a1c6-1656255afe92"
      },
      "execution_count": 59,
      "outputs": [
        {
          "output_type": "stream",
          "name": "stdout",
          "text": [
            "387/387 [==============================] - 1s 2ms/step - loss: 0.2258 - accuracy: 0.9008\n"
          ]
        }
      ]
    },
    {
      "cell_type": "markdown",
      "source": [
        "# Test Accuracy is around 89%"
      ],
      "metadata": {
        "id": "8TAsaSQhOalm"
      }
    },
    {
      "cell_type": "markdown",
      "source": [
        "# Task 6. How much variance is covered by these five components?"
      ],
      "metadata": {
        "id": "m9ZQEoI6OmFJ"
      }
    },
    {
      "cell_type": "code",
      "source": [
        "pca.explained_variance_ratio_"
      ],
      "metadata": {
        "id": "gH7LdPAOllsZ",
        "colab": {
          "base_uri": "https://localhost:8080/"
        },
        "outputId": "7ec8ef30-6d77-475a-fa31-d119087857b9"
      },
      "execution_count": 60,
      "outputs": [
        {
          "output_type": "execute_result",
          "data": {
            "text/plain": [
              "array([0.21351343, 0.08352298, 0.07713646, 0.06797864, 0.05700536])"
            ]
          },
          "metadata": {},
          "execution_count": 60
        }
      ]
    },
    {
      "cell_type": "code",
      "source": [
        "sum(pca.explained_variance_ratio_)"
      ],
      "metadata": {
        "id": "9xcBZuU3O6Vp",
        "colab": {
          "base_uri": "https://localhost:8080/"
        },
        "outputId": "995474b7-90d1-495d-a089-8b2d85cfa4c5"
      },
      "execution_count": 61,
      "outputs": [
        {
          "output_type": "execute_result",
          "data": {
            "text/plain": [
              "0.4991568732290207"
            ]
          },
          "metadata": {},
          "execution_count": 61
        }
      ]
    },
    {
      "cell_type": "markdown",
      "source": [
        "# 49% Variance is covered by first 5 components"
      ],
      "metadata": {
        "id": "cEl-mKXvS0Ak"
      }
    },
    {
      "cell_type": "markdown",
      "source": [
        "# Task 7. Now, Select as many as components are required to achieve minimum 70% test accuracy"
      ],
      "metadata": {
        "id": "16SkLRKuOpqi"
      }
    },
    {
      "cell_type": "code",
      "source": [
        "from sklearn.decomposition import PCA\n",
        "pca1 = PCA(0.70)\n",
        "X_pca1 = pca1.fit_transform(X)\n",
        "X_pca1.shape"
      ],
      "metadata": {
        "id": "COPPvAqFlmKh",
        "colab": {
          "base_uri": "https://localhost:8080/"
        },
        "outputId": "ce20ec5c-b928-45ad-84df-3affc2660e0f"
      },
      "execution_count": 62,
      "outputs": [
        {
          "output_type": "execute_result",
          "data": {
            "text/plain": [
              "(41188, 9)"
            ]
          },
          "metadata": {},
          "execution_count": 62
        }
      ]
    },
    {
      "cell_type": "code",
      "source": [
        "X_train_pca1, X_test_pca1, y_train1, y_test1 = train_test_split(X_pca1, y, test_size=0.3, random_state=30 , shuffle=True)"
      ],
      "metadata": {
        "id": "KZ_eV7wqlmQY"
      },
      "execution_count": 63,
      "outputs": []
    },
    {
      "cell_type": "code",
      "source": [
        "X_train_pca2, x_val1, y_train1, y_val1 = train_test_split(X_train_pca1, y_train1, test_size=0.15, shuffle=True)"
      ],
      "metadata": {
        "id": "Qt8yVdg8lmWf"
      },
      "execution_count": 64,
      "outputs": []
    },
    {
      "cell_type": "code",
      "source": [
        "X_train_pca2.shape"
      ],
      "metadata": {
        "id": "jk2ZvbTFTZIv",
        "colab": {
          "base_uri": "https://localhost:8080/"
        },
        "outputId": "fd815011-6900-4d8a-b903-0abc43fd9970"
      },
      "execution_count": 65,
      "outputs": [
        {
          "output_type": "execute_result",
          "data": {
            "text/plain": [
              "(24506, 9)"
            ]
          },
          "metadata": {},
          "execution_count": 65
        }
      ]
    },
    {
      "cell_type": "code",
      "source": [
        "model1 = keras.Sequential([                 \n",
        "    layers.Dense(64, activation=\"relu\"),\n",
        "    layers.Dense(32, activation=\"relu\"),\n",
        "    layers.Dense(1, activation=\"sigmoid\")\n",
        "])\n",
        "model1.compile(optimizer=\"rmsprop\",\n",
        "              loss=\"binary_crossentropy\",\n",
        "              metrics=[\"accuracy\"])"
      ],
      "metadata": {
        "id": "Kn3VWlH6lmdR"
      },
      "execution_count": 66,
      "outputs": []
    },
    {
      "cell_type": "code",
      "source": [
        "history = model1.fit(X_train_pca2,\n",
        "                    y_train1,\n",
        "                    epochs=20,\n",
        "                    batch_size=512,\n",
        "                    validation_data=(x_val1, y_val1))"
      ],
      "metadata": {
        "id": "4WVxKMdfmmtg",
        "colab": {
          "base_uri": "https://localhost:8080/"
        },
        "outputId": "0c5a0a97-ac84-4195-f539-befb064a0690"
      },
      "execution_count": 67,
      "outputs": [
        {
          "output_type": "stream",
          "name": "stdout",
          "text": [
            "Epoch 1/20\n",
            "48/48 [==============================] - 1s 6ms/step - loss: 0.3905 - accuracy: 0.8668 - val_loss: 0.2620 - val_accuracy: 0.9064\n",
            "Epoch 2/20\n",
            "48/48 [==============================] - 0s 4ms/step - loss: 0.2415 - accuracy: 0.9026 - val_loss: 0.2137 - val_accuracy: 0.9128\n",
            "Epoch 3/20\n",
            "48/48 [==============================] - 0s 4ms/step - loss: 0.2190 - accuracy: 0.9055 - val_loss: 0.2061 - val_accuracy: 0.9128\n",
            "Epoch 4/20\n",
            "48/48 [==============================] - 0s 4ms/step - loss: 0.2125 - accuracy: 0.9069 - val_loss: 0.1994 - val_accuracy: 0.9138\n",
            "Epoch 5/20\n",
            "48/48 [==============================] - 0s 4ms/step - loss: 0.2088 - accuracy: 0.9087 - val_loss: 0.1970 - val_accuracy: 0.9145\n",
            "Epoch 6/20\n",
            "48/48 [==============================] - 0s 4ms/step - loss: 0.2063 - accuracy: 0.9100 - val_loss: 0.1953 - val_accuracy: 0.9158\n",
            "Epoch 7/20\n",
            "48/48 [==============================] - 0s 4ms/step - loss: 0.2045 - accuracy: 0.9104 - val_loss: 0.1960 - val_accuracy: 0.9149\n",
            "Epoch 8/20\n",
            "48/48 [==============================] - 0s 4ms/step - loss: 0.2032 - accuracy: 0.9105 - val_loss: 0.1950 - val_accuracy: 0.9156\n",
            "Epoch 9/20\n",
            "48/48 [==============================] - 0s 4ms/step - loss: 0.2025 - accuracy: 0.9099 - val_loss: 0.1918 - val_accuracy: 0.9184\n",
            "Epoch 10/20\n",
            "48/48 [==============================] - 0s 4ms/step - loss: 0.2013 - accuracy: 0.9112 - val_loss: 0.1920 - val_accuracy: 0.9165\n",
            "Epoch 11/20\n",
            "48/48 [==============================] - 0s 4ms/step - loss: 0.2006 - accuracy: 0.9102 - val_loss: 0.1913 - val_accuracy: 0.9170\n",
            "Epoch 12/20\n",
            "48/48 [==============================] - 0s 4ms/step - loss: 0.1995 - accuracy: 0.9106 - val_loss: 0.1899 - val_accuracy: 0.9186\n",
            "Epoch 13/20\n",
            "48/48 [==============================] - 0s 4ms/step - loss: 0.1987 - accuracy: 0.9109 - val_loss: 0.1910 - val_accuracy: 0.9161\n",
            "Epoch 14/20\n",
            "48/48 [==============================] - 0s 4ms/step - loss: 0.1984 - accuracy: 0.9106 - val_loss: 0.1894 - val_accuracy: 0.9207\n",
            "Epoch 15/20\n",
            "48/48 [==============================] - 0s 4ms/step - loss: 0.1979 - accuracy: 0.9119 - val_loss: 0.1898 - val_accuracy: 0.9170\n",
            "Epoch 16/20\n",
            "48/48 [==============================] - 0s 4ms/step - loss: 0.1973 - accuracy: 0.9105 - val_loss: 0.1902 - val_accuracy: 0.9182\n",
            "Epoch 17/20\n",
            "48/48 [==============================] - 0s 4ms/step - loss: 0.1969 - accuracy: 0.9112 - val_loss: 0.1888 - val_accuracy: 0.9184\n",
            "Epoch 18/20\n",
            "48/48 [==============================] - 0s 4ms/step - loss: 0.1961 - accuracy: 0.9123 - val_loss: 0.1886 - val_accuracy: 0.9200\n",
            "Epoch 19/20\n",
            "48/48 [==============================] - 0s 4ms/step - loss: 0.1957 - accuracy: 0.9121 - val_loss: 0.1885 - val_accuracy: 0.9186\n",
            "Epoch 20/20\n",
            "48/48 [==============================] - 0s 4ms/step - loss: 0.1953 - accuracy: 0.9122 - val_loss: 0.1893 - val_accuracy: 0.9149\n"
          ]
        }
      ]
    },
    {
      "cell_type": "code",
      "source": [
        "results = model1.evaluate(X_test_pca1, y_test1)"
      ],
      "metadata": {
        "id": "nThBfTd-mmxQ",
        "colab": {
          "base_uri": "https://localhost:8080/"
        },
        "outputId": "0de1f1e1-1ebe-458d-a96f-6f3247fd4b7c"
      },
      "execution_count": 68,
      "outputs": [
        {
          "output_type": "stream",
          "name": "stdout",
          "text": [
            "387/387 [==============================] - 1s 2ms/step - loss: 0.2072 - accuracy: 0.9069\n"
          ]
        }
      ]
    },
    {
      "cell_type": "markdown",
      "source": [
        "# Test Accuracy is around 90%"
      ],
      "metadata": {
        "id": "r3Mq0BU3T3Ru"
      }
    },
    {
      "cell_type": "code",
      "source": [
        "pca1.explained_variance_ratio_"
      ],
      "metadata": {
        "id": "Nslfwrhsmm0t",
        "colab": {
          "base_uri": "https://localhost:8080/"
        },
        "outputId": "40ebead6-2613-4a5a-f4b2-1cecf105353e"
      },
      "execution_count": 69,
      "outputs": [
        {
          "output_type": "execute_result",
          "data": {
            "text/plain": [
              "array([0.21351343, 0.08352558, 0.07713652, 0.06799623, 0.05700569,\n",
              "       0.05435776, 0.05192398, 0.05037521, 0.0495195 ])"
            ]
          },
          "metadata": {},
          "execution_count": 69
        }
      ]
    },
    {
      "cell_type": "code",
      "source": [
        "sum(pca1.explained_variance_ratio_)"
      ],
      "metadata": {
        "id": "GaitcrC0pno6",
        "colab": {
          "base_uri": "https://localhost:8080/"
        },
        "outputId": "1341971c-d6be-4b1d-dce1-a1da19ca9f9d"
      },
      "execution_count": 70,
      "outputs": [
        {
          "output_type": "execute_result",
          "data": {
            "text/plain": [
              "0.7053539063704914"
            ]
          },
          "metadata": {},
          "execution_count": 70
        }
      ]
    },
    {
      "cell_type": "markdown",
      "source": [
        "# 70% Variance is covered by these 9 components"
      ],
      "metadata": {
        "id": "XEd5bz3KUJyA"
      }
    },
    {
      "cell_type": "markdown",
      "source": [
        "# 9 components are required to give 70% Accuracy "
      ],
      "metadata": {
        "id": "_6nrgj7yUYZE"
      }
    }
  ]
}